{
 "cells": [
  {
   "cell_type": "markdown",
   "id": "d734f072",
   "metadata": {},
   "source": [
    "# Python Tutorial - Working with Classes\n",
    "\n",
    "## Corey Shafer\n",
    "\n",
    "## Link: https://www.youtube.com/watch?v=ZDa-Z5JzLYM&list=PL-osiE80TeTsqhIuOqKhwlXsIBIdSeYtc"
   ]
  },
  {
   "cell_type": "markdown",
   "id": "0aa0efb5",
   "metadata": {},
   "source": [
    "## Tutorial 1: Classes and Instances\n",
    "\n",
    "* Why use classes? \n",
    "    * group data and functions (i.e. attributes and methods, respectively) to reuse and build upon\n",
    "    * Hench, object-oriented programming\n",
    "* Class vs instance: \n",
    "    * class: blueprint for creating instances\n",
    "    * Example: each unique employee will be an **instance** of the **emplyee class**\n",
    "    * **Instance** variables contain data that is unique to each instance "
   ]
  },
  {
   "cell_type": "code",
   "execution_count": 2,
   "id": "c75464f3",
   "metadata": {},
   "outputs": [
    {
     "name": "stdout",
     "output_type": "stream",
     "text": [
      "jason.kunisaki@email.com\n",
      "test.user@email.com\n"
     ]
    }
   ],
   "source": [
    "class Employee: \n",
    "    pass\n",
    "\n",
    "emp_1 = Employee() ## emp_1 is an instance variable \n",
    "emp_2 = Employee()\n",
    "\n",
    "emp_1.first = 'Jason'\n",
    "emp_1.last = 'Kunisaki'\n",
    "emp_1.email = 'jason.kunisaki@email.com'\n",
    "emp_1.pay = 50000\n",
    "\n",
    "emp_2.first = 'Test'\n",
    "emp_2.last = 'User'\n",
    "emp_2.email = 'test.user@email.com'\n",
    "emp_2.pay = 60000\n",
    "\n",
    "print(emp_1.email)\n",
    "print(emp_2.email)"
   ]
  },
  {
   "cell_type": "code",
   "execution_count": 3,
   "id": "b66d41df",
   "metadata": {},
   "outputs": [
    {
     "name": "stdout",
     "output_type": "stream",
     "text": [
      "Jason.Kunisaki@email.com\n",
      "Test.User@email.com\n"
     ]
    }
   ],
   "source": [
    "class Employee:\n",
    "    def __init__(self, first, last, pay): ## initialize/constructor; 'self' is the instance, 'first/last/pay' are arguments\n",
    "        self.first = first\n",
    "        self.last = last\n",
    "        self.pay = pay\n",
    "        self.email = first + '.' + last + '@email.com'\n",
    "        \n",
    "emp_1 = Employee('Jason', 'Kunisaki', 50000)\n",
    "emp_2 = Employee('Test', 'User', 60000)\n",
    "\n",
    "print(emp_1.email)\n",
    "print(emp_2.email)"
   ]
  },
  {
   "cell_type": "code",
   "execution_count": 4,
   "id": "b757c0bc",
   "metadata": {},
   "outputs": [
    {
     "name": "stdout",
     "output_type": "stream",
     "text": [
      "Jason.Kunisaki@email.com\n",
      "Test.User@email.com\n",
      "Jason Kunisaki\n"
     ]
    }
   ],
   "source": [
    "class Employee:\n",
    "    def __init__(self, first, last, pay): ## initialize/constructor; 'self' is the instance, 'first/last/pay' are arguments\n",
    "        self.first = first\n",
    "        self.last = last\n",
    "        self.pay = pay\n",
    "        self.email = first + '.' + last + '@email.com'\n",
    "        \n",
    "emp_1 = Employee('Jason', 'Kunisaki', 50000)\n",
    "emp_2 = Employee('Test', 'User', 60000)\n",
    "\n",
    "print(emp_1.email)\n",
    "print(emp_2.email)\n",
    "\n",
    "## manual way to get full name of employee (i.e. instance)\n",
    "print('{} {}'.format(emp_1.first, emp_1.last))"
   ]
  },
  {
   "cell_type": "code",
   "execution_count": 10,
   "id": "b73b0d60",
   "metadata": {},
   "outputs": [
    {
     "name": "stdout",
     "output_type": "stream",
     "text": [
      "Jason.Kunisaki@email.com\n",
      "Test.User@email.com\n",
      "Jason Kunisaki\n",
      "Jason Kunisaki\n"
     ]
    }
   ],
   "source": [
    "## Include method within the Employee class to get the full name\n",
    "class Employee:\n",
    "    def __init__(self, first, last, pay): ## initialize/constructor; 'self' is the instance, 'first/last/pay' are arguments\n",
    "        self.first = first\n",
    "        self.last = last\n",
    "        self.pay = pay\n",
    "        self.email = first + '.' + last + '@email.com'\n",
    "        \n",
    "    def fullname(self): ## methods within a class always take the instance (i.e. 'self') as the first argument\n",
    "        return '{} {}'.format(self.first, self.last)\n",
    "        \n",
    "emp_1 = Employee('Jason', 'Kunisaki', 50000)\n",
    "emp_2 = Employee('Test', 'User', 60000)\n",
    "\n",
    "print(emp_1.email)\n",
    "print(emp_2.email)\n",
    "\n",
    "## Get employee's full name\n",
    "print(Employee.fullname(emp_1))\n",
    "print(emp_1.fullname()) ## Include paranthesis after the method name because it is NOT an attribute"
   ]
  },
  {
   "cell_type": "markdown",
   "id": "caff683f",
   "metadata": {},
   "source": [
    "## Tutorial 2: Class Variables\n",
    "\n",
    "* Shared among all instances of a class --> amount of raise ($) each employee gets\n",
    "* Instance variables are unique to each instance --> each employee has a different name\n",
    "* Access class varaiables through the class itself or an instance of the class"
   ]
  },
  {
   "cell_type": "code",
   "execution_count": 11,
   "id": "ad690f44",
   "metadata": {},
   "outputs": [
    {
     "name": "stdout",
     "output_type": "stream",
     "text": [
      "50000\n",
      "52000\n"
     ]
    }
   ],
   "source": [
    "class Employee:\n",
    "    def __init__(self, first, last, pay): ## initialize/constructor; 'self' is the instance, 'first/last/pay' are arguments\n",
    "        self.first = first\n",
    "        self.last = last\n",
    "        self.pay = pay\n",
    "        self.email = first + '.' + last + '@email.com'\n",
    "        \n",
    "    def fullname(self): ## methods within a class always take the instance (i.e. 'self') as the first argument\n",
    "        return '{} {}'.format(self.first, self.last)\n",
    "    \n",
    "    def apply_raise(self):\n",
    "        self.pay = int(self.pay * 1.04) ## Raise salary by 4%\n",
    "        \n",
    "emp_1 = Employee('Jason', 'Kunisaki', 50000)\n",
    "emp_2 = Employee('Test', 'User', 6raise_amount\n",
    "\n",
    "print(emp_1.pay)\n",
    "emp_1.apply_raise() ## It would be nice to define how much to raise by outside of the apply_raise method\n",
    "print(emp_1.pay)"
   ]
  },
  {
   "cell_type": "code",
   "execution_count": 15,
   "id": "dbdc271e",
   "metadata": {},
   "outputs": [
    {
     "name": "stdout",
     "output_type": "stream",
     "text": [
      "{'first': 'Jason', 'last': 'Kunisaki', 'pay': 50000, 'email': 'Jason.Kunisaki@email.com'}\n",
      "{'__module__': '__main__', 'raise_amount': 1.04, '__init__': <function Employee.__init__ at 0x7fbade7b9f70>, 'fullname': <function Employee.fullname at 0x7fbade7b93a0>, 'apply_raise': <function Employee.apply_raise at 0x7fbade7b9550>, '__dict__': <attribute '__dict__' of 'Employee' objects>, '__weakref__': <attribute '__weakref__' of 'Employee' objects>, '__doc__': None}\n",
      "1.04\n",
      "1.04\n",
      "1.04\n"
     ]
    }
   ],
   "source": [
    "## Defining the class variables\n",
    "class Employee:\n",
    "    \n",
    "    raise_amount = 1.04\n",
    "    \n",
    "    def __init__(self, first, last, pay): ## initialize/constructor; 'self' is the instance, 'first/last/pay' are arguments\n",
    "        self.first = first\n",
    "        self.last = last\n",
    "        self.pay = pay\n",
    "        self.email = first + '.' + last + '@email.com'\n",
    "        \n",
    "    def fullname(self): ## methods within a class always take the instance (i.e. 'self') as the first argument\n",
    "        return '{} {}'.format(self.first, self.last)\n",
    "    \n",
    "    def apply_raise(self):\n",
    "        self.pay = int(self.pay * Employee.raise_amount) ## Accessing class variable through the class\n",
    "        # self.pay = int(self.pay * self.raise_amount) ## Accessing class variable through the instance\n",
    "        \n",
    "emp_1 = Employee('Jason', 'Kunisaki', 50000)\n",
    "emp_2 = Employee('Test', 'User', 60000)\n",
    "\n",
    "print(emp_1.__dict__) ## no raise_amount attribute\n",
    "print(Employee.__dict__) ## shows raise_amount attribute\n",
    "\n",
    "## Can access class variable from the class itself and both instances\n",
    "print(Employee.raise_amount)\n",
    "## When we look to access an attribute (raise_amount) on an instance --> it will check if the instance contains the attribute\n",
    "## If the instance doesn't --> check if the class the instance is inherited from contains the attribute\n",
    "print(emp_1.raise_amount) ## The instance does not have the attribute --> but the Employee class does\n",
    "print(emp_2.raise_amount) "
   ]
  },
  {
   "cell_type": "code",
   "execution_count": 21,
   "id": "6a344a6d",
   "metadata": {},
   "outputs": [
    {
     "name": "stdout",
     "output_type": "stream",
     "text": [
      "{'first': 'Jason', 'last': 'Kunisaki', 'pay': 50000, 'email': 'Jason.Kunisaki@email.com', 'raise_amount': 1.06}\n",
      "1.05\n",
      "1.06\n",
      "1.05\n"
     ]
    }
   ],
   "source": [
    "## Defining the class variables\n",
    "class Employee:\n",
    "    \n",
    "    raise_amount = 1.04\n",
    "    \n",
    "    def __init__(self, first, last, pay): ## initialize/constructor; 'self' is the instance, 'first/last/pay' are arguments\n",
    "        self.first = first\n",
    "        self.last = last\n",
    "        self.pay = pay\n",
    "        self.email = first + '.' + last + '@email.com'\n",
    "        \n",
    "    def fullname(self): ## methods within a class always take the instance (i.e. 'self') as the first argument\n",
    "        return '{} {}'.format(self.first, self.last)\n",
    "    \n",
    "    def apply_raise(self):\n",
    "        self.pay = int(self.pay * Employee.raise_amount) ## Accessing class variable through the class\n",
    "        # self.pay = int(self.pay * self.raise_amount) ## Accessing class variable through the instance\n",
    "        \n",
    "emp_1 = Employee('Jason', 'Kunisaki', 50000)\n",
    "emp_2 = Employee('Test', 'User', 60000)\n",
    "\n",
    "Employee.raise_amount = 1.05 ## change raise_amount class variable attribute through the class\n",
    "\n",
    "emp_1.raise_amount = 1.06 ## Will change raise_amount attribute within employee 1\n",
    "print(emp_1.__dict__)\n",
    "\n",
    "print(Employee.raise_amount)\n",
    "print(emp_1.raise_amount) \n",
    "print(emp_2.raise_amount) "
   ]
  },
  {
   "cell_type": "code",
   "execution_count": 23,
   "id": "53f78d27",
   "metadata": {},
   "outputs": [
    {
     "name": "stdout",
     "output_type": "stream",
     "text": [
      "0\n",
      "2\n"
     ]
    }
   ],
   "source": [
    "## Goal: keep track of the employee numbers using class variables\n",
    "## Number of employees should be the same for all instances of our class\n",
    "\n",
    "## Defining the class variables\n",
    "class Employee:\n",
    "    \n",
    "    num_of_emps = 0\n",
    "    raise_amount = 1.04\n",
    "    \n",
    "    def __init__(self, first, last, pay): ## This runs everytime we create a new employee --> perfect to adding to the number of employees\n",
    "        self.first = first\n",
    "        self.last = last\n",
    "        self.pay = pay\n",
    "        self.email = first + '.' + last + '@email.com'\n",
    "        \n",
    "        Employee.num_of_emps += 1 ## use the class rather than the instance --> this is not changing across instances (i.e. each unique employee)\n",
    "        \n",
    "    def fullname(self): ## methods within a class always take the instance (i.e. 'self') as the first argument\n",
    "        return '{} {}'.format(self.first, self.last)\n",
    "    \n",
    "    def apply_raise(self):\n",
    "        self.pay = int(self.pay * Employee.raise_amount) ## Accessing class variable through the class\n",
    "        # self.pay = int(self.pay * self.raise_amount) ## Accessing class variable through the instance\n",
    "\n",
    "print(Employee.num_of_emps)        \n",
    "\n",
    "emp_1 = Employee('Jason', 'Kunisaki', 50000)\n",
    "emp_2 = Employee('Test', 'User', 60000)\n",
    "\n",
    "print(Employee.num_of_emps)"
   ]
  },
  {
   "cell_type": "markdown",
   "id": "4f5f2712",
   "metadata": {},
   "source": [
    "## Tutorial 3: Classmethods and Staticmethods\n",
    "\n",
    "* **Regular methods** in a class automatically take the **instance** as the first argument (i.e. 'self')\n",
    "* **Class methods** use the **class** as the first argument\n",
    "    * Use class methods and **alternative constructors** to provide multiple ways to create objects\n",
    "    * Pass in string of names (e.g. Jason-Kunisaki) and create an employee from that\n",
    "* **Static methods** in a class do not pass anything automatically \n",
    "    * Behave like regular functions\n",
    "    * Still have logical connection with the class\n",
    "    * Example: check if a date is a work day --> does not have depend on specific instance/class variable\n",
    "    "
   ]
  },
  {
   "cell_type": "code",
   "execution_count": 26,
   "id": "7d2d4b9c",
   "metadata": {},
   "outputs": [
    {
     "name": "stdout",
     "output_type": "stream",
     "text": [
      "1.05\n",
      "1.05\n",
      "1.05\n"
     ]
    }
   ],
   "source": [
    "## Defining the class variables\n",
    "class Employee:\n",
    "    \n",
    "    num_of_emps = 0\n",
    "    raise_amount = 1.04\n",
    "    \n",
    "    def __init__(self, first, last, pay): ## This runs everytime we create a new employee --> perfect to adding to the number of employees\n",
    "        self.first = first\n",
    "        self.last = last\n",
    "        self.pay = pay\n",
    "        self.email = first + '.' + last + '@email.com'\n",
    "        \n",
    "        Employee.num_of_emps += 1 ## use the class rather than the instance --> this is not changing across instances (i.e. each unique employee)\n",
    "        \n",
    "    def fullname(self): ## methods within a class always take the instance (i.e. 'self') as the first argument\n",
    "        return '{} {}'.format(self.first, self.last)\n",
    "    \n",
    "    def apply_raise(self):\n",
    "        self.pay = int(self.pay * Employee.raise_amount) ## Accessing class variable through the class\n",
    "        # self.pay = int(self.pay * self.raise_amount) ## Accessing class variable through the instance\n",
    "        \n",
    "    @classmethod ## decorator to define a classmethod\n",
    "    def set_raise_amount(cls, amount): ## Convention is the use cls as the first argument\n",
    "        cls.raise_amount = amount\n",
    "        \n",
    "emp_1 = Employee('Jason', 'Kunisaki', 50000)\n",
    "emp_2 = Employee('Test', 'User', 60000)\n",
    "\n",
    "Employee.set_raise_amount(1.05) ## change the raise amount through the set_raise_amount class method (working with the class as opposed to the instance)\n",
    "# Employee.raise_amount = 1.05 ## This does the same thing but without the class method\n",
    "\n",
    "print(Employee.raise_amount)\n",
    "print(emp_1.raise_amount) \n",
    "print(emp_2.raise_amount) "
   ]
  },
  {
   "cell_type": "code",
   "execution_count": null,
   "id": "9468b915",
   "metadata": {},
   "outputs": [],
   "source": [
    "## Defining the class variables\n",
    "class Employee:\n",
    "    \n",
    "    num_of_emps = 0\n",
    "    raise_amount = 1.04\n",
    "    \n",
    "    def __init__(self, first, last, pay): ## This runs everytime we create a new employee --> perfect to adding to the number of employees\n",
    "        self.first = first\n",
    "        self.last = last\n",
    "        self.pay = pay\n",
    "        self.email = first + '.' + last + '@email.com'\n",
    "        \n",
    "        Employee.num_of_emps += 1 ## use the class rather than the instance --> this is not changing across instances (i.e. each unique employee)\n",
    "        \n",
    "    def fullname(self): ## methods within a class always take the instance (i.e. 'self') as the first argument\n",
    "        return '{} {}'.format(self.first, self.last)\n",
    "    \n",
    "    def apply_raise(self):\n",
    "        self.pay = int(self.pay * Employee.raise_amount) ## Accessing class variable through the class\n",
    "        # self.pay = int(self.pay * self.raise_amount) ## Accessing class variable through the instance\n",
    "        \n",
    "    @classmethod ## decorator to define a classmethod\n",
    "    def set_raise_amount(cls, amount): ## Convention is the use cls as the first argument\n",
    "        cls.raise_amount = amount\n",
    "\n",
    "emp_str_1 = 'John-Doe-70000'\n",
    "emp_str_2 = 'Steve-Smith-30000'\n",
    "emp_str_3 = 'Jane-Doe-90000'\n",
    "\n",
    "first, last, pay = emp_str_1.split('-') ## This would be tedious to do for each employee\n",
    "\n",
    "new_emp_1 = Employee(first, last, pay)\n",
    "\n",
    "print(new_emp_1.email)\n",
    "print(new_emp_1.pay)"
   ]
  },
  {
   "cell_type": "code",
   "execution_count": 29,
   "id": "24984901",
   "metadata": {},
   "outputs": [
    {
     "name": "stdout",
     "output_type": "stream",
     "text": [
      "John Doe\n"
     ]
    }
   ],
   "source": [
    "## Use alternative constructor\n",
    "## Defining the class variables\n",
    "class Employee:\n",
    "    \n",
    "    num_of_emps = 0\n",
    "    raise_amount = 1.04\n",
    "    \n",
    "    def __init__(self, first, last, pay): ## This runs everytime we create a new employee --> perfect to adding to the number of employees\n",
    "        self.first = first\n",
    "        self.last = last\n",
    "        self.pay = pay\n",
    "        self.email = first + '.' + last + '@email.com'\n",
    "        \n",
    "        Employee.num_of_emps += 1 ## use the class rather than the instance --> this is not changing across instances (i.e. each unique employee)\n",
    "        \n",
    "    def fullname(self): ## methods within a class always take the instance (i.e. 'self') as the first argument\n",
    "        return '{} {}'.format(self.first, self.last)\n",
    "    \n",
    "    def apply_raise(self):\n",
    "        self.pay = int(self.pay * Employee.raise_amount) ## Accessing class variable through the class\n",
    "        # self.pay = int(self.pay * self.raise_amount) ## Accessing class variable through the instance\n",
    "        \n",
    "    @classmethod ## decorator to define a classmethod\n",
    "    def set_raise_amount(cls, amount): ## Convention is the use cls as the first argument\n",
    "        cls.raise_amount = amount\n",
    "        \n",
    "    @classmethod\n",
    "    def from_string(cls, emp_str): ## This is using classmethods as alternative constructors\n",
    "        first, last, pay = emp_str.split('-') ## Split the employee string that gets passed to this method\n",
    "        return cls(first, last, pay) ## Create new employee information\n",
    "        \n",
    "emp_str_1 = 'John-Doe-70000'\n",
    "emp_str_2 = 'Steve-Smith-30000'\n",
    "emp_str_3 = 'Jane-Doe-90000'\n",
    "\n",
    "new_emp_1 = Employee.from_string(emp_str_1)\n",
    "print(new_emp_1.fullname())\n"
   ]
  },
  {
   "cell_type": "code",
   "execution_count": 35,
   "id": "ea624e0c",
   "metadata": {},
   "outputs": [
    {
     "name": "stdout",
     "output_type": "stream",
     "text": [
      "True\n"
     ]
    }
   ],
   "source": [
    "## Look at static methods --> want simple function that determines if a date is a work day\n",
    "## Use alternative constructor\n",
    "## Defining the class variables\n",
    "class Employee:\n",
    "    \n",
    "    num_of_emps = 0\n",
    "    raise_amount = 1.04\n",
    "    \n",
    "    def __init__(self, first, last, pay): ## This runs everytime we create a new employee --> perfect to adding to the number of employees\n",
    "        self.first = first\n",
    "        self.last = last\n",
    "        self.pay = pay\n",
    "        self.email = first + '.' + last + '@email.com'\n",
    "        \n",
    "        Employee.num_of_emps += 1 ## use the class rather than the instance --> this is not changing across instances (i.e. each unique employee)\n",
    "        \n",
    "    def fullname(self): ## methods within a class always take the instance (i.e. 'self') as the first argument\n",
    "        return '{} {}'.format(self.first, self.last)\n",
    "    \n",
    "    def apply_raise(self):\n",
    "        self.pay = int(self.pay * Employee.raise_amount) ## Accessing class variable through the class\n",
    "        # self.pay = int(self.pay * self.raise_amount) ## Accessing class variable through the instance\n",
    "        \n",
    "    @classmethod ## decorator to define a classmethod\n",
    "    def set_raise_amount(cls, amount): ## Convention is the use cls as the first argument\n",
    "        cls.raise_amount = amount\n",
    "        \n",
    "    @classmethod\n",
    "    def from_string(cls, emp_str): ## This is using classmethods as alternative constructors\n",
    "        first, last, pay = emp_str.split('-') ## Split the employee string that gets passed to this method\n",
    "        return cls(first, last, pay) ## Create new employee information\n",
    "    \n",
    "    @staticmethod\n",
    "    def is_workday(day):\n",
    "        if day.weekday == 5 or day.weekday == 6:\n",
    "            return False\n",
    "        return True\n",
    "        \n",
    "import datetime\n",
    "my_date = datetime.date(2016, 7, 10)\n",
    "print(Employee.is_workday(my_date))\n",
    "\n"
   ]
  },
  {
   "cell_type": "markdown",
   "id": "8ce23ce4",
   "metadata": {},
   "source": [
    "## Tutorial 4: Inheritance - Creating Subclasses\n",
    "\n",
    "* Add new functionality to a subclass without affecting the parent class\n",
    "* Example: create subclasses for developers and managers\n",
    "    * They will share name, email, and pay information from the original class\n",
    "* **Method resolution order:** Classes that python searches to define attributes and methods"
   ]
  },
  {
   "cell_type": "code",
   "execution_count": 82,
   "id": "c3e30a7e",
   "metadata": {},
   "outputs": [
    {
     "name": "stdout",
     "output_type": "stream",
     "text": [
      "Sue.Smith@email.com\n",
      "--> Jason Kunisaki\n",
      "--> Test User\n",
      "--> Test User\n",
      "50000\n",
      "55000\n",
      "python\n"
     ]
    }
   ],
   "source": [
    "class Employee:\n",
    "    \n",
    "    raise_amount = 1.04\n",
    "    \n",
    "    def __init__(self, first, last, pay): ## \n",
    "        self.first = first\n",
    "        self.last = last\n",
    "        self.pay = pay\n",
    "        self.email = first + '.' + last + '@email.com'\n",
    "        \n",
    "    def fullname(self):\n",
    "        return '{} {}'.format(self.first, self.last)\n",
    "    \n",
    "    def apply_raise(self):\n",
    "        self.pay = int(self.pay * self.raise_amount) ## If you access the raise_amount variable through the class --> will keep the original attribute (raise_amount = 1.04)\n",
    "        \n",
    "class Developer(Employee): ## Define which class the new subclass inherits from \n",
    "    \n",
    "    raise_amount = 1.10\n",
    "    \n",
    "    def __init__(self, first, last, pay, programming_language): ## Add init method to define more attributes to subclass\n",
    "        super().__init__(first, last, pay) ## Lets the Employee class' init method handle these arguments\n",
    "        self.programming_language = programming_language\n",
    "        \n",
    "class Manager(Employee): \n",
    "    \n",
    "    ## Define list of employees the manager supervises\n",
    "    def __init__(self, first, last, pay, employees=None): \n",
    "        super().__init__(first, last, pay) \n",
    "        if employees is None:\n",
    "            self.employees = []\n",
    "        else:\n",
    "            self.employees = employees\n",
    "            \n",
    "    ## Add/remove employees\n",
    "    def add_emp(self, emp): \n",
    "        if emp not in self.employees:\n",
    "            self.employees.append(emp)\n",
    "            \n",
    "    def remove_emp(self, emp): \n",
    "        if emp in self.employees:\n",
    "            self.employees.remove(emp)\n",
    "            \n",
    "    ## Print out employees\n",
    "    def print_emps(self):\n",
    "        for emp in self.employees:\n",
    "            print('-->', emp.fullname())\n",
    "\n",
    "dev_1 = Developer('Jason', 'Kunisaki', 50000, 'python') ## First look in 'developer' class for init method --> go to Employee class\n",
    "dev_2 = Developer('Test', 'User', 60000, 'java')\n",
    "\n",
    "mgr_1 = Manager('Sue', 'Smith', 90000, [dev_1])\n",
    "\n",
    "## Manager info\n",
    "print(mgr_1.email)\n",
    "mgr_1.add_emp(dev_2)\n",
    "mgr_1.print_emps()\n",
    "mgr_1.remove_emp(dev_1)\n",
    "mgr_1.print_emps()\n",
    "\n",
    "## Developer info\n",
    "print(dev_1.pay)\n",
    "dev_1.apply_raise()\n",
    "print(dev_1.pay)\n",
    "print(dev_1.programming_language)"
   ]
  },
  {
   "cell_type": "markdown",
   "id": "5345b905",
   "metadata": {},
   "source": [
    "### Isinstance vs issubclass\n",
    "* **isinstance:** tells us if an object is an instance of a class\n",
    "* **issubclass:** tells us if an object is a subclass that inherited from a parent class"
   ]
  },
  {
   "cell_type": "code",
   "execution_count": 85,
   "id": "4f6e5053",
   "metadata": {},
   "outputs": [
    {
     "name": "stdout",
     "output_type": "stream",
     "text": [
      "True\n",
      "True\n",
      "False\n"
     ]
    }
   ],
   "source": [
    "print(isinstance(mgr_1, Manager)) ## see if manager_1 is an instance of the Manager 'class'\n",
    "print(isinstance(mgr_1, Employee)) ## see if manager_1 is an instance of the Employee 'class'\n",
    "print(isinstance(mgr_1, Developer)) ## see if manager_1 is an instance of the Developer 'class'"
   ]
  },
  {
   "cell_type": "code",
   "execution_count": 86,
   "id": "272e14d3",
   "metadata": {},
   "outputs": [
    {
     "name": "stdout",
     "output_type": "stream",
     "text": [
      "True\n",
      "True\n",
      "False\n"
     ]
    }
   ],
   "source": [
    "print(issubclass(Developer, Employee)) ## see if 'Developer' is a subclass of 'Employee'\n",
    "print(issubclass(Manager, Employee)) ## see if 'Manager' is a subclass of 'Employee'\n",
    "print(issubclass(Manager, Developer)) ## see if 'Manager' is a subclass of 'Developer'"
   ]
  },
  {
   "cell_type": "markdown",
   "id": "2168e578",
   "metadata": {},
   "source": [
    "## Tutorial 5: Special (Magic/Dunder) Methods\n",
    "\n",
    "* Emulate python built-in behavior and implement operator overloading\n",
    "* Example: print user-friendly information"
   ]
  },
  {
   "cell_type": "code",
   "execution_count": 102,
   "id": "926d85ae",
   "metadata": {},
   "outputs": [
    {
     "name": "stdout",
     "output_type": "stream",
     "text": [
      "Jason Kunisaki - Jason.Kunisaki@email.com\n",
      "Employee('Jason', 'Kunisaki', 50000)\n",
      "Employee('Jason', 'Kunisaki', 50000)\n",
      "Jason Kunisaki - Jason.Kunisaki@email.com\n",
      "Jason Kunisaki - Jason.Kunisaki@email.com\n",
      "110000\n",
      "14\n",
      "3\n",
      "3\n",
      "ab\n",
      "ab\n",
      "4\n",
      "4\n"
     ]
    }
   ],
   "source": [
    "class Employee:\n",
    "    \n",
    "    raise_amount = 1.04\n",
    "    \n",
    "    def __init__(self, first, last, pay): ## \n",
    "        self.first = first\n",
    "        self.last = last\n",
    "        self.pay = pay\n",
    "        self.email = first + '.' + last + '@email.com'\n",
    "        \n",
    "    def fullname(self):\n",
    "        return '{} {}'.format(self.first, self.last)\n",
    "    \n",
    "    def apply_raise(self):\n",
    "        self.pay = int(self.pay * self.raise_amount)\n",
    "        \n",
    "    def __repr__(self): ## special method (useful for debugging) --> returns string that is specified below\n",
    "        return \"Employee('{}', '{}', {})\".format(self.first, self.last, self.pay)\n",
    "    \n",
    "    def __str__(self): ## special method (readable representation of object)\n",
    "        return '{} - {}'.format(self.fullname(), self.email)\n",
    "    \n",
    "    def __add__(self, other): ## dunder method to add salaries\n",
    "        return self.pay + other.pay ## Combine the salary of two employees\n",
    "    \n",
    "    def __len__(self): ## dunder method to get length of full name\n",
    "        return len(self.fullname())\n",
    "        \n",
    "        \n",
    "        \n",
    "emp_1 = Employee('Jason', 'Kunisaki', 50000)\n",
    "emp_2 = Employee('Test', 'User', 60000)\n",
    "\n",
    "print(emp_1)\n",
    "print(repr(emp_1))\n",
    "print(emp_1.__repr__())\n",
    "print(str(emp_1))\n",
    "print(emp_1.__str__())\n",
    "\n",
    "## Sum up salaries\n",
    "print(emp_1 + emp_2)\n",
    "\n",
    "## Get length of employee's fullname\n",
    "print(len(emp_1))\n",
    "\n",
    "print(1+2)\n",
    "print(int.__add__(1,2))\n",
    "print('a'+'b')\n",
    "print(str.__add__('a', 'b'))\n",
    "\n",
    "\n",
    "## Real world examples\n",
    "print(len('test'))\n",
    "print('test'.__len__())"
   ]
  },
  {
   "cell_type": "markdown",
   "id": "169de355",
   "metadata": {},
   "source": [
    "## Tutorial 6: Property Decorators - Getters, Setters, and Deleters\n",
    "\n",
    "* Used to define Class methods that we can access like attributes"
   ]
  },
  {
   "cell_type": "code",
   "execution_count": 114,
   "id": "1dc5e339",
   "metadata": {},
   "outputs": [
    {
     "name": "stdout",
     "output_type": "stream",
     "text": [
      "Donut\n",
      "Donut.Falls@email.com\n",
      "Donut Falls\n",
      "Delete Name!\n",
      "None\n",
      "None.None@email.com\n",
      "None None\n"
     ]
    }
   ],
   "source": [
    "class Employee:\n",
    "        \n",
    "    def __init__(self, first, last): \n",
    "        self.first = first\n",
    "        self.last = last\n",
    "        #self.email = first + '.' + last + '@email.com'\n",
    "        \n",
    "    @property\n",
    "    def fullname(self):\n",
    "        return '{} {}'.format(self.first, self.last)\n",
    "            \n",
    "    ## Define the property decorator\n",
    "    @property\n",
    "    def email(self):\n",
    "        return '{}.{}@email.com'.format(self.first, self.last)\n",
    "    \n",
    "    ## Setter decorator\n",
    "    @fullname.setter\n",
    "    def fullname(self, name): ## name value is the value we are trying to set\n",
    "        first, last = name.split(' ')\n",
    "        self.first = first\n",
    "        self.last = last\n",
    "        \n",
    "    ## Deletor decorator\n",
    "    @fullname.deleter\n",
    "    def fullname(self): \n",
    "        print('Delete Name!')\n",
    "        self.first = None\n",
    "        self.last = None\n",
    "\n",
    "emp_1 = Employee('Jason', 'Kunisaki')\n",
    "\n",
    "emp_1.first = 'Justin'\n",
    "emp_1.fullname = 'Donut Falls'\n",
    "\n",
    "print(emp_1.first)\n",
    "print(emp_1.email)\n",
    "print(emp_1.fullname)\n",
    "\n",
    "## Delete the employee\n",
    "del emp_1.fullname\n",
    "print(emp_1.first)\n",
    "print(emp_1.email)\n",
    "print(emp_1.fullname)"
   ]
  }
 ],
 "metadata": {
  "kernelspec": {
   "display_name": "Python 3",
   "language": "python",
   "name": "python3"
  },
  "language_info": {
   "codemirror_mode": {
    "name": "ipython",
    "version": 3
   },
   "file_extension": ".py",
   "mimetype": "text/x-python",
   "name": "python",
   "nbconvert_exporter": "python",
   "pygments_lexer": "ipython3",
   "version": "3.9.2"
  },
  "toc": {
   "base_numbering": 1,
   "nav_menu": {},
   "number_sections": false,
   "sideBar": true,
   "skip_h1_title": false,
   "title_cell": "Table of Contents",
   "title_sidebar": "Contents",
   "toc_cell": false,
   "toc_position": {
    "height": "calc(100% - 180px)",
    "left": "10px",
    "top": "150px",
    "width": "243.594px"
   },
   "toc_section_display": true,
   "toc_window_display": true
  }
 },
 "nbformat": 4,
 "nbformat_minor": 5
}
